{
 "cells": [
  {
   "cell_type": "code",
   "execution_count": 1,
   "metadata": {},
   "outputs": [
    {
     "name": "stdout",
     "output_type": "stream",
     "text": [
      "Requirement already satisfied: numpy in f:\\apps\\source\\repos\\django\\todo_list\\.venv\\lib\\site-packages (1.26.4)\n"
     ]
    }
   ],
   "source": [
    "! pip install numpy"
   ]
  },
  {
   "cell_type": "code",
   "execution_count": 1,
   "metadata": {},
   "outputs": [
    {
     "name": "stdout",
     "output_type": "stream",
     "text": [
      "{'Planilha1':          data  odc  NOME  UF      Prefeitura  ISO  Unnamed: 6  Unnamed: 7  \\\n",
      "0     janeiro  INS   NaN  RJ      rio/centro  NaN         NaN         NaN   \n",
      "1     janeiro  TNV   NaN  RJ       cabo frio  NaN        14.0        45.0   \n",
      "2     janeiro  ins   NaN  BA        Salvador  9.0         NaN         NaN   \n",
      "3     janeiro  INS   NaN  RJ  rio das ostras  9.0        14.0        45.0   \n",
      "4     janeiro  INS   NaN  SP         Itapira  9.0         NaN         NaN   \n",
      "..        ...  ...   ...  ..             ...  ...         ...         ...   \n",
      "231  dicembre  INS   NaN  SP         barueri  NaN         NaN         NaN   \n",
      "232  dicembre  INS   NaN  SP         barueri  NaN         NaN         NaN   \n",
      "233  dicembre  uaf   NaN  RJ           macae  NaN        14.0        45.0   \n",
      "234  dicembre  INS   NaN  RJ           macae  9.0         NaN         NaN   \n",
      "235  dicembre  INS   NaN  MG    Alem paraiba  NaN         NaN         NaN   \n",
      "\n",
      "     Unnamed: 8  Unnamed: 9  ...                 2021                 2022  \\\n",
      "0           NaN         NaN  ...  2022-01-21 00:00:00  2022-01-01 00:00:00   \n",
      "1           NaN         NaN  ...                  NaN  2022-01-28 00:00:00   \n",
      "2           NaN         NaN  ...                  NaN  2022-01-17 00:00:00   \n",
      "3           NaN         NaN  ...                  NaN                  NaN   \n",
      "4           NaN         NaN  ...                  NaN                  NaN   \n",
      "..          ...         ...  ...                  ...                  ...   \n",
      "231        27.0     27701.0  ...                  NaN                  NaN   \n",
      "232        27.0     27701.0  ...                  NaN                  NaN   \n",
      "233         NaN         NaN  ...                  NaN                  NaN   \n",
      "234         NaN         NaN  ...                  NaN                  NaN   \n",
      "235        27.0         NaN  ...                  NaN                  NaN   \n",
      "\n",
      "                    2023       2024        F 2022 F 2023 F 2024  CEP email  \\\n",
      "0    2023-01-01 00:00:00        NaT        110/03  125/3  125/1  NaN   NaN   \n",
      "1    2023-01-01 00:00:00        NaT  400/03 440/2  340/3    NaN  NaN   NaN   \n",
      "2    2023-01-01 00:00:00        NaT         110/1  125/1  125/2  NaN   NaN   \n",
      "3    2023-01-16 00:00:00        NaT           NaN  390/1  375/2  NaN   NaN   \n",
      "4                    NaN 2024-01-04           NaN    NaN  350/2  NaN   NaN   \n",
      "..                   ...        ...           ...    ...    ...  ...   ...   \n",
      "231  2023-12-19 00:00:00        NaT           NaN  355/1    NaN  NaN   NaN   \n",
      "232  2023-12-19 00:00:00        NaT           NaN  355/1    NaN  NaN   NaN   \n",
      "233  2023-12-23 00:00:00        NaT           NaN  440/1    NaN  NaN   NaN   \n",
      "234  2023-12-28 00:00:00        NaT           NaN  135/1    NaN  NaN   NaN   \n",
      "235  2023-12-11 00:00:00        NaT           NaN  220/1    NaN  NaN   NaN   \n",
      "\n",
      "                                                escopo  \n",
      "0    Gerenciamento das Comprovações Metrológicas, d...  \n",
      "1                                                  NaN  \n",
      "2    Serviços de caldeiraria na manutenção de equip...  \n",
      "3    Limpeza em equipamentos e áreas industriais e ...  \n",
      "4    Termocronologia de apatita e zircão baseada em...  \n",
      "..                                                 ...  \n",
      "231  Projeto, desenvolvimento, fabricação, instalaç...  \n",
      "232  Projeto, desenvolvimento, fabricação, instalaç...  \n",
      "233  Transporte rodoviário coletivo de passageiros,...  \n",
      "234  Transporte rodoviário coletivo de passageiros ...  \n",
      "235  Desenvolvimento de Software, Serviço de Tecnol...  \n",
      "\n",
      "[236 rows x 27 columns]}\n"
     ]
    }
   ],
   "source": [
    "import sqlite3\n",
    "import pandas as pd\n",
    "\n",
    "con = sqlite3.connect('cps.db')\n",
    "wb = pd.read_excel('cps.xlsx',sheet_name = None)\n",
    "print(wb)\n",
    "for sheet in wb:\n",
    "    wb[sheet].to_sql(sheet,con,index=False)\n",
    "con.commit()\n",
    "con.close()"
   ]
  },
  {
   "cell_type": "code",
   "execution_count": 5,
   "metadata": {},
   "outputs": [
    {
     "name": "stdout",
     "output_type": "stream",
     "text": [
      "         data  odc  NOME  UF      Prefeitura  Consult  Man  Che  CEP email  \\\n",
      "0     janeiro  INS   NaN  RJ      rio/centro    foqus  NaN  NaN  NaN   NaN   \n",
      "1     janeiro  TNV   NaN  RJ       cabo frio    aline  NaN  NaN  NaN   NaN   \n",
      "2     janeiro  ins   NaN  BA        Salvador       ge  NaN  NaN  NaN   NaN   \n",
      "3     janeiro  INS   NaN  RJ  rio das ostras        x  NaN  NaN  NaN   NaN   \n",
      "4     janeiro  INS   NaN  SP         Itapira        x   ok   ok  NaN   NaN   \n",
      "..        ...  ...   ...  ..             ...      ...  ...  ...  ...   ...   \n",
      "231  dicembre  INS   NaN  SP         barueri     eder  NaN  NaN  NaN   NaN   \n",
      "232  dicembre  INS   NaN  SP         barueri     eder  NaN  NaN  NaN   NaN   \n",
      "233  dicembre  uaf   NaN  RJ           macae       vv  NaN  uaf  NaN   NaN   \n",
      "234  dicembre  INS   NaN  RJ           macae       vv  NaN  NaN  NaN   NaN   \n",
      "235  dicembre  INS   NaN  MG    Alem paraiba  dechamp  NaN  NaN  NaN   NaN   \n",
      "\n",
      "                                                escopo  \n",
      "0    Gerenciamento das Comprovações Metrológicas, d...  \n",
      "1                                                  NaN  \n",
      "2    Serviços de caldeiraria na manutenção de equip...  \n",
      "3    Limpeza em equipamentos e áreas industriais e ...  \n",
      "4    Termocronologia de apatita e zircão baseada em...  \n",
      "..                                                 ...  \n",
      "231  Projeto, desenvolvimento, fabricação, instalaç...  \n",
      "232  Projeto, desenvolvimento, fabricação, instalaç...  \n",
      "233  Transporte rodoviário coletivo de passageiros,...  \n",
      "234  Transporte rodoviário coletivo de passageiros ...  \n",
      "235  Desenvolvimento de Software, Serviço de Tecnol...  \n",
      "\n",
      "[236 rows x 11 columns]\n"
     ]
    }
   ],
   "source": [
    "import pandas as pd\n",
    "import numpy as np\n",
    "import sqlite3\n",
    "\n",
    "con = sqlite3.connect('certi.db')\n",
    "\n",
    "file_loc = \"cps.xlsx\"\n",
    "df = pd.read_excel(file_loc, index_col=None, na_values=['NA'], usecols=\"A:E,M:O,Y:AA\")\n",
    "print(df)\n",
    "\n",
    "for sheet in df:\n",
    "   df[sheet].to_sql(sheet,con,index=False)\n",
    "con.commit()\n",
    "con.close()"
   ]
  }
 ],
 "metadata": {
  "kernelspec": {
   "display_name": ".venv",
   "language": "python",
   "name": "python3"
  },
  "language_info": {
   "codemirror_mode": {
    "name": "ipython",
    "version": 3
   },
   "file_extension": ".py",
   "mimetype": "text/x-python",
   "name": "python",
   "nbconvert_exporter": "python",
   "pygments_lexer": "ipython3",
   "version": "3.10.7"
  }
 },
 "nbformat": 4,
 "nbformat_minor": 2
}
